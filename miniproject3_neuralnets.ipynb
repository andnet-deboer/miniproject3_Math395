{
 "cells": [
  {
   "cell_type": "markdown",
   "id": "99290648-7d5c-4ce9-9a2c-d6a3e411f03c",
   "metadata": {},
   "source": [
    "# Math 395 Miniproject 3 (Neural nets)\n",
    "\n",
    "Hope College, Fall 2024"
   ]
  },
  {
   "cell_type": "markdown",
   "id": "c97aeb07-749a-4f12-a395-c79a24903542",
   "metadata": {},
   "source": [
    "Import libraries"
   ]
  },
  {
   "cell_type": "code",
   "execution_count": null,
   "id": "127b9ef8-44b4-446c-9136-6355c4535fbe",
   "metadata": {},
   "outputs": [],
   "source": [
    "import numpy as np\n",
    "from matplotlib import pyplot as plt\n",
    "from sklearn.linear_model import LogisticRegression\n",
    "from sklearn.decomposition import PCA\n",
    "import scipy.io\n",
    "\n",
    "# add more libraries here"
   ]
  },
  {
   "cell_type": "markdown",
   "id": "783f92cf-11e3-4d32-9c9a-aa2eaa639d4e",
   "metadata": {
    "tags": []
   },
   "source": [
    "## (1) Display the dicision boundary of a neural network\n",
    "\n",
    "Train several neural networks on the twomoons data and display their decision boundaries"
   ]
  },
  {
   "cell_type": "code",
   "execution_count": null,
   "id": "eb9be291-b03d-4cff-aaf0-1ad38d643030",
   "metadata": {},
   "outputs": [],
   "source": [
    "mat = scipy.io.loadmat('twomoons.mat')\n",
    "\n",
    "X_train = mat['X']\n",
    "y_train = mat['truelabels']"
   ]
  },
  {
   "cell_type": "markdown",
   "id": "24a110f3-62c5-4670-a106-be15e69c0f0d",
   "metadata": {},
   "source": [
    "\n",
    "\n",
    "\n",
    "\n",
    "\n",
    "\n",
    "\n"
   ]
  },
  {
   "cell_type": "markdown",
   "id": "8339d506-bb06-4aa6-9fbc-cf6a5d2f1224",
   "metadata": {
    "tags": []
   },
   "source": [
    "## (2) Fully connected neural networks\n",
    "\n",
    "Train a neural network using the training images in the fashion mnist data set and evaluate the network on the test data. Try to play with the hyperparameters of the network, such as \n",
    "\n",
    "- number of layers, \n",
    "- number of neurons on each layer, \n",
    "- activation function,\n",
    "- regularization parameter, and\n",
    "- batch size\n",
    "\n",
    "What is the lowest test error you can achieve?"
   ]
  },
  {
   "cell_type": "code",
   "execution_count": null,
   "id": "2229ae0a-5125-46a8-b038-5709039453fb",
   "metadata": {},
   "outputs": [],
   "source": [
    "mat = scipy.io.loadmat('fashion.mat')\n",
    "\n",
    "X_train = mat['Xtr']\n",
    "y_train = mat['ytr']\n",
    "X_test = mat['Xtst']\n",
    "y_test = mat['ytst']"
   ]
  },
  {
   "cell_type": "code",
   "execution_count": null,
   "id": "f2459fea-5e61-43cc-b8c2-a52992211762",
   "metadata": {},
   "outputs": [],
   "source": [
    "\n",
    "\n",
    "\n",
    "\n",
    "\n",
    "\n",
    "\n"
   ]
  },
  {
   "cell_type": "markdown",
   "id": "0ad74f30-6d46-4c2f-bab4-d6afa2e8e6b5",
   "metadata": {},
   "source": [
    "## (3) Convolutional neural network on the fashion-mnist data"
   ]
  },
  {
   "cell_type": "markdown",
   "id": "db407d38-8146-4a29-988f-ab4f3bc99165",
   "metadata": {},
   "source": [
    "You can refer to the following webpage:\n",
    "\n",
    "https://www.datacamp.com/tutorial/convolutional-neural-networks-python\n",
    "\n",
    "You just need to copy all the code from there and reproduce the results below."
   ]
  },
  {
   "cell_type": "code",
   "execution_count": null,
   "id": "d848835d-8c99-44c2-a6c2-37d88793ebcf",
   "metadata": {},
   "outputs": [],
   "source": [
    "\n",
    "\n",
    "\n",
    "\n",
    "\n",
    "\n",
    "\n",
    "\n"
   ]
  }
 ],
 "metadata": {
  "kernelspec": {
   "display_name": "Python 3 (ipykernel)",
   "language": "python",
   "name": "python3"
  },
  "language_info": {
   "codemirror_mode": {
    "name": "ipython",
    "version": 3
   },
   "file_extension": ".py",
   "mimetype": "text/x-python",
   "name": "python",
   "nbconvert_exporter": "python",
   "pygments_lexer": "ipython3",
   "version": "3.10.9"
  }
 },
 "nbformat": 4,
 "nbformat_minor": 5
}
